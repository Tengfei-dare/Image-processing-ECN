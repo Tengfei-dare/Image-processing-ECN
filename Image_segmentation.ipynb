{
 "cells": [
  {
   "cell_type": "markdown",
   "metadata": {
    "id": "XrrDvpLFsdza"
   },
   "source": [
    "# Semantic segmentation with Deep Learning\n",
    "Centrale Nantes\n",
    "\n",
    "Diana Mateus"
   ]
  },
  {
   "cell_type": "markdown",
   "metadata": {
    "id": "Uncs1DSCsdzc"
   },
   "source": [
    "### Introduction"
   ]
  },
  {
   "cell_type": "markdown",
   "metadata": {
    "id": "WCycI20csdzd"
   },
   "source": [
    "In many areas of biomedical research, cell counts obtained from images are crucial data for diagnosing patients or for addressing hypotheses about developmental or pathological processes. Although the field changes reapidly, many cell counts are still done manually or with semi-automatic tools. An automatic tool can therefore save time, reduce variability, and improve results. In this notebook we will model the problem in terms of semantic segmentation and approach it by means of deep learning, and more specifically with the U-Net architecture."
   ]
  },
  {
   "cell_type": "markdown",
   "metadata": {
    "id": "9O8ZLTAAsdzk"
   },
   "source": [
    "### 1. Load modules and data"
   ]
  },
  {
   "cell_type": "markdown",
   "metadata": {
    "id": "JiYmEPldsdzl"
   },
   "source": [
    "#### 1.1 Import modules"
   ]
  },
  {
   "cell_type": "code",
   "execution_count": 1,
   "metadata": {
    "colab": {
     "base_uri": "https://localhost:8080/"
    },
    "id": "EtzrnQ_Usdzl",
    "outputId": "87055bdf-d86b-4ea5-fc7c-016d2db22c23"
   },
   "outputs": [
    {
     "name": "stdout",
     "output_type": "stream",
     "text": [
      "Python       : 3.7.11 (default, Jul 27 2021, 09:42:29) [MSC v.1916 64 bit (AMD64)]\n",
      "Numpy        : 1.20.3\n",
      "Skimage      : 0.18.3\n",
      "Scikit-learn : 1.0.2\n",
      "Tensorflow   : 2.3.0\n"
     ]
    }
   ],
   "source": [
    "# Import all the necessary libraries\n",
    "import os\n",
    "import datetime \n",
    "import glob                                           #filename pattern matching\n",
    "import random\n",
    "import sys\n",
    "import numpy as np\n",
    "import pandas as pd\n",
    "import matplotlib.pyplot as plt\n",
    "\n",
    "#SKIMAGE\n",
    "import skimage.io                                     #Used for imshow function\n",
    "import skimage.transform                              #Used for resize function\n",
    "import skimage.exposure                               #Used for displaying \n",
    "\n",
    "#Tensorflow, Keras and related modules\n",
    "import tensorflow as tf\n",
    "from tensorflow.keras.layers import Input, Dense, Activation, ZeroPadding2D, BatchNormalization, Flatten, Conv2D, Conv2DTranspose\n",
    "from tensorflow.keras.layers import AveragePooling2D, MaxPooling2D, Dropout, GlobalMaxPooling2D, GlobalAveragePooling2D\n",
    "from tensorflow.keras.losses import binary_crossentropy\n",
    "from tensorflow.keras.layers import add, concatenate\n",
    "\n",
    "\n",
    "#To save and reload models\n",
    "from tensorflow.keras.models import load_model, Model\n",
    "from tensorflow.keras.utils import  plot_model\n",
    "\n",
    "\n",
    "#Sklearn \n",
    "import sklearn\n",
    "from sklearn.model_selection import train_test_split\n",
    "\n",
    "print('Python       :', sys.version.split('\\n')[0])\n",
    "print('Numpy        :', np.__version__)\n",
    "print('Skimage      :', skimage.__version__)\n",
    "print('Scikit-learn :', sklearn.__version__)\n",
    "print('Tensorflow   :', tf.__version__)"
   ]
  },
  {
   "cell_type": "markdown",
   "metadata": {
    "id": "3_e4LIzasdzs"
   },
   "source": [
    "#### 1.2 Import data \n",
    "Download data from\n",
    "\n",
    "- https://box.ec-nantes.fr/index.php/s/X84Bq5NYJ2zJRpR (small dataset to begin with)\n",
    "- https://box.ec-nantes.fr/index.php/s/oXAx37DbpXPDF7T (larger dataset for final tests single zip -> good internet connection)"
   ]
  },
  {
   "cell_type": "markdown",
   "metadata": {
    "id": "sTGfl__Lsdzs"
   },
   "source": [
    "#### 1.3 Define the data path\n",
    "Define the data path and change the directory. Also specify the train and test directories"
   ]
  },
  {
   "cell_type": "code",
   "execution_count": 15,
   "metadata": {
    "colab": {
     "base_uri": "https://localhost:8080/"
    },
    "id": "mx8bDZs0sdzt",
    "outputId": "58f4d13e-37a7-4665-9a66-756dc3e97b21"
   },
   "outputs": [],
   "source": [
    "# replace the path with your own !\n",
    "ImagePath = './Images/segmentation_miniinput'\n",
    "\n",
    "train_path = os.path.join(ImagePath, 'stage1_train')  # path to training data file/folder\n",
    "test_path = os.path.join(ImagePath, 'stage1_test')   # path to test data file/folder\n",
    "# print(train_path, test_path)"
   ]
  },
  {
   "cell_type": "markdown",
   "metadata": {
    "id": "IGG4SHF6sdzo"
   },
   "source": [
    "#### 1.4 Define global parameters\n",
    "- Set seed for random values to a fix number (suggested: 42) to ensure that images are associated to the exactly corresponding masks . \n",
    "- Define the desired image size as two global parameters:\n",
    "``` img_height, img_width ```. \n",
    "The defalut image size  is (64,64). You may want to reduce size for faster **debugging** or increase it (e.g. 256,256) for better results"
   ]
  },
  {
   "cell_type": "code",
   "execution_count": 27,
   "metadata": {
    "id": "VZzFalvSsdzp"
   },
   "outputs": [],
   "source": [
    "# Set seed values\n",
    "random.seed = 42\n",
    "np.random.seed(seed=42)\n",
    "\n",
    "# Set number of GPUs\n",
    "# num_gpus = 1   # defaults to 1 if one-GPU or one-CPU. If 4 GPUs, set to 4.\n",
    "\n",
    "# Set height (y-axis length) and width (x-axis length) to train model on\n",
    "img_height, img_width = (64,64)  # Default to (256,256), use (None,None) if you do not want to resize imgs"
   ]
  },
  {
   "cell_type": "markdown",
   "metadata": {
    "id": "tIQp5Y25sdzv"
   },
   "source": [
    "#### 1.5 Read and preload the input image data\n",
    "Read the data and create a tensor containing all the train and test data as well as their corresponding labels.\n",
    "\n",
    "The following function ``get_images``  \n",
    "- receives as input an image path (can be train or test), and a desired image shape for the output\n",
    "- lists all files in the input image path. \n",
    "- reads each of the files with ``skimage.io.imread``\n",
    "- uses ``skimage.transform.resize`` to directly downsample the images according to the ``img_height, img_width`` parameters.\n",
    "- uses only the first three channels of the images.\n",
    "- returns a numpy array (matrix) . \n",
    "- uses ``%%time`` to display the time spent in loading.\n",
    "\n",
    "Run the function and print the shape and type of the resulting array (e.g. (670, 256, 256, 3) uint8 "
   ]
  },
  {
   "cell_type": "code",
   "execution_count": 40,
   "metadata": {
    "colab": {
     "base_uri": "https://localhost:8080/"
    },
    "id": "UX8fjX7tsdzw",
    "outputId": "1d04ef7f-e380-4dd9-c0e0-03903e58046b",
    "scrolled": true
   },
   "outputs": [
    {
     "name": "stdout",
     "output_type": "stream",
     "text": [
      "(50, 64, 64, 3) uint8\n",
      "Wall time: 1.98 s\n"
     ]
    }
   ],
   "source": [
    "%%time\n",
    "# Get training data\n",
    "def get_images(path, output_shape=(None, None)):\n",
    "    '''\n",
    "    Loads images from path/{id}/images/{id}.png into a numpy array\n",
    "    '''\n",
    "    img_paths = ['{0}/{1}/images/{1}.png'.format(path, id) for id in os.listdir(path) if id != \".DS_Store\"]\n",
    "\n",
    "    X_data = np.array(\n",
    "        [\n",
    "            skimage.transform.resize(\n",
    "                skimage.io.imread(path)[:,:,:3], \n",
    "                output_shape=output_shape, \n",
    "                mode='constant', \n",
    "                preserve_range=True\n",
    "                ) for path in img_paths\n",
    "        ], \n",
    "        dtype=np.uint8\n",
    "    )  #take only 3 channels/bands\n",
    "    \n",
    "    return X_data\n",
    "\n",
    "X_train = get_images(train_path, output_shape=(img_height,img_width))\n",
    "\n",
    "print(X_train.shape, X_train.dtype)"
   ]
  },
  {
   "cell_type": "markdown",
   "metadata": {
    "id": "wvJ8CGbtsdzy"
   },
   "source": [
    "#### 1.6 Read and preload the expert annotation masks \n",
    "The following function ``get_labels``  \n",
    "- receives as input a mask path (can be train or test), and a desired image shape for the output.\n",
    "- lists all files in the input path. Hint: use ``os.listdir``.\n",
    "- reads each of the files with ``skimage.io.imread``\n",
    "- uses ``skimage.transform.resize`` to directly downsample the masks according to the ``img_height, img_width`` parameters.\n",
    "- returns a numpy array (matrix) . Hint: define an ``np.array`` of type ``dtype=np.uint8`` to stock the data.\n",
    "- uses ``%%time`` to display the time spent in loading.\n",
    "- Runs the function and print the shape and type of the resulting array (e.g. (670, 256, 256, 3)) uint8 \n",
    "- This can take some minutes (reduce the number of images to accelerate the first tests and reduce memory demands if necessary)"
   ]
  },
  {
   "cell_type": "code",
   "execution_count": 38,
   "metadata": {
    "colab": {
     "base_uri": "https://localhost:8080/"
    },
    "id": "eXsdGWFGsdzz",
    "outputId": "6f7788de-dda3-4419-c3e3-28004d79fa38"
   },
   "outputs": [
    {
     "name": "stdout",
     "output_type": "stream",
     "text": [
      "We have 50 labeled images of size (64,64) and type bool\n",
      "Wall time: 5.92 s\n"
     ]
    }
   ],
   "source": [
    "%%time\n",
    "# Get training data labels\n",
    "def get_labels(path, output_shape=(None, None)):\n",
    "    '''\n",
    "    Loads and concatenates images from path/{id}/masks/{id}.png into a numpy array\n",
    "    '''\n",
    "    img_paths = [glob.glob('{0}/{1}/masks/*.png'.format(path, id)) for id in os.listdir(path) if id != \".DS_Store\"]\n",
    "    \n",
    "    Y_data = []\n",
    "    for i, img_masks in enumerate(img_paths):  # loop through each individual nuclei for an image and combine them together\n",
    "        masks = skimage.io.imread_collection(img_masks).concatenate()  # masks.shape = (num_masks, img_height, img_width)\n",
    "        mask = np.max(masks, axis=0)                                   # mask.shape = (img_height, img_width)\n",
    "        mask = skimage.transform.resize(\n",
    "            mask, \n",
    "            output_shape=output_shape+(1,), # need to add an extra dimension so mask.shape = (img_height, img_width, 1)\n",
    "            mode='constant', \n",
    "            preserve_range=True\n",
    "        )  \n",
    "        Y_data.append(mask)\n",
    "\n",
    "    # make sure to return the binary images but coded as floats to be compatible with the loss functions\n",
    "    Y_data = np.array(Y_data, dtype=bool)\n",
    "    \n",
    "    return Y_data    \n",
    "    \n",
    "Y_train = get_labels(train_path, output_shape=(img_height,img_width))\n",
    "\n",
    "print(\n",
    "    \"We have {} labeled images of size ({},{}) and type {}\".format(\n",
    "        Y_train.shape[0],\n",
    "        Y_train.shape[1],\n",
    "        Y_train.shape[2],\n",
    "        Y_train.dtype\n",
    "    )\n",
    ")"
   ]
  },
  {
   "cell_type": "code",
   "execution_count": 39,
   "metadata": {},
   "outputs": [
    {
     "name": "stdout",
     "output_type": "stream",
     "text": [
      "float64\n"
     ]
    }
   ],
   "source": [
    "Y_train = 1.0 * Y_train.astype(float)\n",
    "print(Y_train.dtype)"
   ]
  },
  {
   "cell_type": "markdown",
   "metadata": {
    "id": "LSC-arG7sdz1"
   },
   "source": [
    "#### 1.7 Visualize some examples of images and matching labels\n",
    "Choose one index among the lists of images and labels and use ``plt.imshow`` to visualize side by side the corresponding image and mask.\n",
    "You may want to use ```skimage.exposure.rescale_intensity``` for better visualization of the input."
   ]
  },
  {
   "cell_type": "code",
   "execution_count": 35,
   "metadata": {
    "colab": {
     "base_uri": "https://localhost:8080/",
     "height": 254
    },
    "id": "yu-ctAxqRx4b",
    "outputId": "677c5645-9198-446a-df42-76dc1ecc0bb1"
   },
   "outputs": [
    {
     "name": "stdout",
     "output_type": "stream",
     "text": [
      "Looking at image  38\n"
     ]
    },
    {
     "data": {
      "image/png": "[encoded data removed]",
      "text/plain": [
       "<Figure size 432x288 with 2 Axes>"
      ]
     },
     "metadata": {
      "needs_background": "light"
     },
     "output_type": "display_data"
    }
   ],
   "source": [
    "%matplotlib inline\n",
    "np.random.seed(seed=42)\n",
    "idx = np.random.randint(Y_train.shape[0], size=1)[0]\n",
    "\n",
    "print ('Looking at image ', idx)\n",
    "\n",
    "plt.subplot(1,2,1)\n",
    "plt.imshow(skimage.exposure.rescale_intensity(X_train[idx, :, :, :]))\n",
    "plt.title('input image')\n",
    "plt.subplot(1,2,2)\n",
    "plt.imshow(Y_train[idx, :, :],cmap='gray')\n",
    "plt.title('mask')\n",
    "plt.show()"
   ]
  },
  {
   "cell_type": "markdown",
   "metadata": {
    "id": "GbTsuLoVsdz4"
   },
   "source": [
    "### 2. Buidling the U-Net model\n",
    "#### 2.1. Define the architecture\n",
    "\n",
    "The u-net is composed of an input layer, an encoder and a decoder. Both the encoder and deconder consists of several blocks with similar structure but different dimensions. Each encoder blocks is composed of two convolutional layers of the same dimensions with a pooling and an activation function. With pooling operations, the 2D dimensions of the image are progressively reduced; to compensate the number of filters (or equivalently of feature channels) in each block is increased. The decoder reverses the operations of the encoder. Finally skip connections are created between the encoder and the decoder. To make these connections  it is useful to create a list pointing to the output of each encoder block as well as a list pointing to the output of each decoder block."
   ]
  },
  {
   "cell_type": "markdown",
   "metadata": {
    "id": "dvSy-Vq2sdz5"
   },
   "source": [
    "**a)** Building the model\n",
    "- Create a function ```model``` that receives as input the image size \n",
    "- Start by predefining as parameters within the function\n",
    "    - the number of kernels/feature channels per block. Usually they have increasing powers of 2. For instance, ```n_channels=[16,32,64,128,256]```\n",
    "    - a global kernel size ```(3,3)```\n",
    "    - a weight initialization method (try `he_normal`)\n",
    "- Create an input layer using the Keras function ``Input`` , the shape should match the the image dimensions.\n",
    "- Declare the encoder blocks each composed of:\n",
    "    - two convolutional layers. Use ``Conv2D``.\n",
    "    - one maxpool layer (except for the last block). Use ``MaxPooling2D``\n",
    "    - use relu activations\n",
    "    - create a list pointing to each of the encoder blocks to be able to refer to them later while creating the skip connections\n",
    "    - **Hint** Define one block of convolution+pool+relu then create a loop to iterate over the different blocks\n",
    "\n",
    "- Define the decoder blocks each composed of:\n",
    "    - one Transpose convolution layer.\n",
    "    - two convolutional layers. \n",
    "    - use relu activations\n",
    "    - create a list with pointing to each encoder blocks to be able to refer to them later the skip connections\n",
    "    - **Hint** Define one block of transposed convolution+conv+relu then create a loop to iterate over the different blocks\n",
    "\n",
    "\n",
    "- The output layer should be a Transpose convolution layer with a 'sigmoid' activatin and a 'glorot_normal' initialization\n",
    "\n",
    "- Use the lists created above to create the skip connections \n",
    "    - connecting for each resolution the output of the encoder blocks to the input of the decoder blocks.\n",
    "\n",
    "- Use the keras function ``Model`` to identify this function as the architecture and use the output of ```Model``` as the return value of the unet_model function\n"
   ]
  },
  {
   "cell_type": "code",
   "execution_count": null,
   "metadata": {
    "id": "o6cLx3-nsdz6"
   },
   "outputs": [],
   "source": [
    "def unet_model(img_width=256, img_height=256):\n",
    "    \n",
    "    #define the architecture parameters\n",
    "    n_channels = [16,32,64,128,256]  #the number of kernels/feature channels per block\n",
    "    k_size = (3, 3)                  #size of filter kernel\n",
    "    k_init = 'he_normal'             #kernel initializer\n",
    "    encoder_list = []\n",
    "    decoder_list = [] \n",
    " \n",
    "    \n",
    "    # Use Keras Input layer to create one\n",
    "    inp = Input(\n",
    "        shape=(img_width, img_height),\n",
    "        dtype='uint8' # X_train.dtype\n",
    "    )\n",
    "    \n",
    "# Dense, Activation, ZeroPadding2D, BatchNormalization, Flatten, Conv2DTranspose\n",
    "# AveragePooling2D, MaxPooling2D, Dropout, GlobalMaxPooling2D, GlobalAveragePooling2D\n",
    "\n",
    "    # Encoder\n",
    "    for  i_block, n_channel in enumerate(n_channels):\n",
    "        c1 = Conv2D(\n",
    "            n_channel, \n",
    "            k_size, \n",
    "            activation='relu', \n",
    "            padding=\"valid\"\n",
    "        )(inp)\n",
    "        \n",
    "        c2 = Conv2D(\n",
    "            n_channel, \n",
    "            k_size, \n",
    "            activation='relu', \n",
    "            padding=\"valid\"\n",
    "        )(c1)\n",
    "        \n",
    "        encoder_list = encoder_list.append(c2)\n",
    "\n",
    "        if i_block < len(n_channels):\n",
    "            maxp = MaxPooling2D(\n",
    "                pool_size=(2, 2),\n",
    "                padding=\"valid\"\n",
    "            )(c2)\n",
    "\n",
    "        inp = maxp\n",
    "\n",
    "\n",
    "    # Decoder\n",
    "    for  i_block, n_channel in enumerate(n_channels):\n",
    "        ct = Conv2DTranspose(\n",
    "            n_channel[-i_block-1],\n",
    "            kernel_size=(2, 2), \n",
    "            activation='relu', \n",
    "            padding=\"valid\"\n",
    "        ) (inp)\n",
    "        \n",
    "        decoder_list = decoder_list.append(ct)\n",
    "\n",
    "        c1 = Conv2D(\n",
    "            n_channel, \n",
    "            k_size, \n",
    "            activation='relu', \n",
    "            padding=\"valid\"\n",
    "        )(ct)\n",
    "        \n",
    "        c2 = Conv2D(\n",
    "            n_channel, \n",
    "            k_size, \n",
    "            activation='relu', \n",
    "            padding=\"valid\"\n",
    "        )(c1)\n",
    "\n",
    "        inp = c2\n",
    "\n",
    "\n",
    "    # Output\n",
    "    \n",
    "    outp = Conv2DTranspose(\n",
    "            1, # ???\n",
    "            kernel_size=(2, 2), \n",
    "            activation='sigmoid', \n",
    "            padding=\"valid\",\n",
    "            kernel_initializer='glorot_uniform'\n",
    "        ) (inp)\n",
    "    \n",
    "    #Build Model with the architecture\n",
    "    model = Model(inputs=[inp], outputs=[outp])\n",
    "    \n",
    "    return model"
   ]
  },
  {
   "cell_type": "markdown",
   "metadata": {
    "id": "Z-ip9xJvsdz8"
   },
   "source": [
    "#### 2.2. Define the losses\n",
    "\n",
    "Define and explain how to use the Dice coefficient and the binarry crossentropy as loss and metrics for the segmentation. Create a costum dice loss that is a weighted average between the two"
   ]
  },
  {
   "cell_type": "code",
   "execution_count": null,
   "metadata": {
    "id": "nRz2dP4_sdz9"
   },
   "outputs": [],
   "source": [
    "def dice_coef(y_true, y_pred):\n",
    "    \n",
    "    return score\n",
    "\n",
    "def dice_loss(y_true, y_pred):\n",
    "   \n",
    "    return loss\n",
    "\n",
    "def costum_dice_loss(y_true, y_pred):\n",
    "    \n",
    "    return loss\n"
   ]
  },
  {
   "cell_type": "markdown",
   "metadata": {
    "id": "0bJO4Nzjsdz_"
   },
   "source": [
    "#### 2.3 Define the optimizer "
   ]
  },
  {
   "cell_type": "code",
   "execution_count": null,
   "metadata": {
    "id": "n3bINJ0Tsd0A"
   },
   "outputs": [],
   "source": [
    "# Set optmizer, loss and metric\n",
    "optimizer = \n",
    "loss      = \n",
    "metrics   = \n"
   ]
  },
  {
   "cell_type": "markdown",
   "metadata": {
    "id": "Bi22QZNisd0C"
   },
   "source": [
    "#### 2.4 Compile the model"
   ]
  },
  {
   "cell_type": "code",
   "execution_count": null,
   "metadata": {
    "colab": {
     "base_uri": "https://localhost:8080/"
    },
    "id": "lLERRYRnsd0D",
    "outputId": "49d1e796-6291-4597-8383-dba8e299806d"
   },
   "outputs": [],
   "source": [
    "#instantiate the model\n",
    "\n",
    "model = \n",
    "\n",
    "#summary\n",
    "\n",
    "#compile the model"
   ]
  },
  {
   "cell_type": "code",
   "execution_count": null,
   "metadata": {
    "colab": {
     "base_uri": "https://localhost:8080/",
     "height": 1000
    },
    "id": "vJrSrWN_B6_O",
    "outputId": "c163dbd0-ce90-42b1-81ec-0212cd834959"
   },
   "outputs": [],
   "source": [
    "#run the following cell to visualize the created model\n",
    "\n",
    "from tensorflow.keras.utils import plot_model\n",
    "plot_model(model, to_file='model.png')"
   ]
  },
  {
   "cell_type": "markdown",
   "metadata": {
    "id": "5vFi09AEsd0F"
   },
   "source": [
    "### 3. Trainning and testing"
   ]
  },
  {
   "cell_type": "markdown",
   "metadata": {
    "id": "7UYoVsH6sd0F"
   },
   "source": [
    "#### 3.1 Launch the training\n",
    "- Use the ```model.fit``` function to launc the training, \n",
    "- save the output of the model.fit which provides the history of the training results. \n",
    "- Measure the overall time with ```%%time``` at the beginning of the notebook cell\n"
   ]
  },
  {
   "cell_type": "code",
   "execution_count": null,
   "metadata": {
    "colab": {
     "base_uri": "https://localhost:8080/"
    },
    "id": "6NXX_fehsd0G",
    "outputId": "d6e06eef-3628-4cca-9e15-76148a6ae3cb"
   },
   "outputs": [],
   "source": [
    "%%time\n",
    "# Fit model\n",
    "epochs= \n",
    "\n",
    "batch_size= 25\n",
    "\n",
    "history = \n"
   ]
  },
  {
   "cell_type": "markdown",
   "metadata": {
    "id": "vdFjWK8psd0I"
   },
   "source": [
    "#### 3.2. Save the model\n",
    "Save the final model ``model_out.save_weights`` with an hdf5 format. "
   ]
  },
  {
   "cell_type": "code",
   "execution_count": null,
   "metadata": {},
   "outputs": [],
   "source": [
    "model.save_weights('model1_weights.hdf5')\n"
   ]
  },
  {
   "cell_type": "markdown",
   "metadata": {},
   "source": [
    "#### 3.3. Plot the loss and the metrics\n",
    "\n",
    "from the output of the fit function"
   ]
  },
  {
   "cell_type": "code",
   "execution_count": null,
   "metadata": {
    "colab": {
     "base_uri": "https://localhost:8080/",
     "height": 283
    },
    "id": "DE9rN1ULsd0J",
    "outputId": "44365a34-0e85-4922-bd59-a858f08bd903"
   },
   "outputs": [],
   "source": []
  },
  {
   "cell_type": "markdown",
   "metadata": {
    "id": "rCb0RUyeilpj"
   },
   "source": [
    "#### 3.4. Test\n",
    "Load the test images, make predictions and visualize the predictions \n",
    "\n"
   ]
  },
  {
   "cell_type": "code",
   "execution_count": null,
   "metadata": {
    "id": "AN25h6izpJUQ"
   },
   "outputs": [],
   "source": [
    "# if required reload the model\n",
    "# model.load_weights('model1_weights.hdf5')"
   ]
  },
  {
   "cell_type": "code",
   "execution_count": null,
   "metadata": {
    "id": "OmIkYbqYilpj"
   },
   "outputs": [],
   "source": [
    "\n"
   ]
  },
  {
   "cell_type": "markdown",
   "metadata": {},
   "source": [
    "### 4 Comparison and Improvement\n",
    "\n",
    "Try making changes to improve the results. Do at least one of the following modifications \n",
    "- Change the architecture (use the one from the tf example, or add other types of layers (e.g. dropout) or non-linarities (e.g. leaky relu) and compare the training curves\n",
    "- add data augmentation (rotation, flip, translation of each image)\n",
    "- add an explicit validation set and ilustrate the intermediate results and metrics on the validation set\n",
    "- add data generators (to sample and augment data online)\n",
    "\n",
    "\n",
    "\n"
   ]
  },
  {
   "cell_type": "code",
   "execution_count": null,
   "metadata": {},
   "outputs": [],
   "source": []
  }
 ],
 "metadata": {
  "colab": {
   "collapsed_sections": [],
   "name": "SOLUTION 2020-2021-Semantic segmentation Changing to TF2.ipynb",
   "provenance": [],
   "toc_visible": true
  },
  "interpreter": {
   "hash": "dcf4a0056d053f6513a65339a1db4afc19978becdcf3951556f0af4564c95f7f"
  },
  "kernelspec": {
   "display_name": "tf2",
   "language": "python",
   "name": "python3"
  },
  "language_info": {
   "codemirror_mode": {
    "name": "ipython",
    "version": 3
   },
   "file_extension": ".py",
   "mimetype": "text/x-python",
   "name": "python",
   "nbconvert_exporter": "python",
   "pygments_lexer": "ipython3",
   "version": "3.7.11"
  }
 },
 "nbformat": 4,
 "nbformat_minor": 1
}
