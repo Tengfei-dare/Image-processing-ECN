{
 "cells": [
  {
   "cell_type": "markdown",
   "metadata": {},
   "source": [
    "See [Cuda intro](https://lulaoshi.info/gpu/python-cuda/cuda-intro)"
   ]
  },
  {
   "cell_type": "code",
   "execution_count": 11,
   "metadata": {},
   "outputs": [],
   "source": [
    "from numba import cuda\n",
    "\n",
    "import numpy as np\n",
    "from time import time"
   ]
  },
  {
   "cell_type": "code",
   "execution_count": 2,
   "metadata": {},
   "outputs": [
    {
     "name": "stdout",
     "output_type": "stream",
     "text": [
      "<Managed Device 0>\n"
     ]
    }
   ],
   "source": [
    "# check available gpu device in this computer\n",
    "print(cuda.gpus)"
   ]
  },
  {
   "cell_type": "markdown",
   "metadata": {},
   "source": [
    "# GPU print function"
   ]
  },
  {
   "cell_type": "code",
   "execution_count": 21,
   "metadata": {},
   "outputs": [
    {
     "name": "stdout",
     "output_type": "stream",
     "text": [
      "gpu vector add time 0.11353397369384766\n",
      "cpu vector add time 0.03344368934631348\n",
      "result correct!\n"
     ]
    }
   ],
   "source": [
    "@cuda.jit\n",
    "def gpu_add(a, b, result, n):\n",
    "    \"\"\"\n",
    "    The inputs should be copied to_device or initialized on device, such as:    \n",
    "        x_device = cuda.to_device(x)\n",
    "        y_device = cuda.to_device(y)\n",
    "        gpu_result = cuda.device_array(n)\n",
    "    \"\"\"\n",
    "    idx = cuda.threadIdx.x + cuda.blockDim.x * cuda.blockIdx.x\n",
    "    if idx < n :\n",
    "        result[idx] = a[idx] + b[idx]\n",
    "\n",
    "def main():\n",
    "    n = 20000000\n",
    "    x = np.arange(n).astype(np.int32)\n",
    "    y = 2 * x\n",
    "\n",
    "    # copy data to device\n",
    "    x_device = cuda.to_device(x)\n",
    "    y_device = cuda.to_device(y)\n",
    "\n",
    "    # initialize a space on the device to save the results get by GPU\n",
    "    gpu_result = cuda.device_array(n)\n",
    "    cpu_result = np.empty(n)\n",
    "\n",
    "    threads_per_block = 512\n",
    "    blocks_per_grid = int(n / threads_per_block) + 1\n",
    "\n",
    "    start = time()\n",
    "    gpu_add[blocks_per_grid, threads_per_block](x_device, y_device, gpu_result, n)\n",
    "    cuda.synchronize()\n",
    "    print(\"gpu vector add time \" + str(time() - start))\n",
    "\n",
    "    start = time()\n",
    "    cpu_result = np.add(x, y)\n",
    "    print(\"cpu vector add time \" + str(time() - start))\n",
    "\n",
    "    if (np.array_equal(cpu_result, gpu_result.copy_to_host())):\n",
    "        print(\"result correct!\")\n",
    "\n",
    "if __name__ == \"__main__\":\n",
    "    main()"
   ]
  },
  {
   "cell_type": "markdown",
   "metadata": {},
   "source": [
    "About grid, block and thread: \\\n",
    "<img src=http://aixingqiu-1258949597.cos.ap-beijing.myqcloud.com/2019-11-21-071231.png width='500'>"
   ]
  },
  {
   "cell_type": "code",
   "execution_count": null,
   "metadata": {},
   "outputs": [],
   "source": []
  }
 ],
 "metadata": {
  "interpreter": {
   "hash": "dcf4a0056d053f6513a65339a1db4afc19978becdcf3951556f0af4564c95f7f"
  },
  "kernelspec": {
   "display_name": "Python 3.7.11 ('image_process')",
   "language": "python",
   "name": "python3"
  },
  "language_info": {
   "codemirror_mode": {
    "name": "ipython",
    "version": 3
   },
   "file_extension": ".py",
   "mimetype": "text/x-python",
   "name": "python",
   "nbconvert_exporter": "python",
   "pygments_lexer": "ipython3",
   "version": "3.7.11"
  },
  "orig_nbformat": 4
 },
 "nbformat": 4,
 "nbformat_minor": 2
}
