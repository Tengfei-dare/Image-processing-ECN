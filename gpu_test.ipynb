{
 "cells": [
  {
   "cell_type": "markdown",
   "metadata": {},
   "source": [
    "See [Cuda intro](https://lulaoshi.info/gpu/python-cuda/cuda-intro)"
   ]
  },
  {
   "cell_type": "code",
   "execution_count": null,
   "metadata": {},
   "outputs": [],
   "source": [
    "from numba import cuda"
   ]
  },
  {
   "cell_type": "code",
   "execution_count": 7,
   "metadata": {},
   "outputs": [
    {
     "name": "stdout",
     "output_type": "stream",
     "text": [
      "<Managed Device 0>\n"
     ]
    }
   ],
   "source": [
    "# check available gpu device in this computer\n",
    "print(cuda.gpus)"
   ]
  },
  {
   "cell_type": "markdown",
   "metadata": {},
   "source": [
    "# GPU print function"
   ]
  },
  {
   "cell_type": "code",
   "execution_count": 10,
   "metadata": {},
   "outputs": [
    {
     "name": "stdout",
     "output_type": "stream",
     "text": [
      "print by cpu.\n"
     ]
    }
   ],
   "source": [
    "def cpu_print():\n",
    "    print(\"print by cpu.\")\n",
    "\n",
    "\n",
    "@cuda.jit\n",
    "def gpu_print():\n",
    "    # GPU kernel function\n",
    "    print(\"print by gpu.\")\n",
    "\n",
    "\n",
    "def main():\n",
    "    gpu_print[1, 2]()\n",
    "    cuda.synchronize()  # cpu start to work after gpu finished\n",
    "    cpu_print()\n",
    "\n",
    "\n",
    "if __name__ == \"__main__\":\n",
    "    main()\n"
   ]
  },
  {
   "cell_type": "code",
   "execution_count": null,
   "metadata": {},
   "outputs": [],
   "source": []
  }
 ],
 "metadata": {
  "interpreter": {
   "hash": "dcf4a0056d053f6513a65339a1db4afc19978becdcf3951556f0af4564c95f7f"
  },
  "kernelspec": {
   "display_name": "Python 3.7.11 ('image_process')",
   "language": "python",
   "name": "python3"
  },
  "language_info": {
   "codemirror_mode": {
    "name": "ipython",
    "version": 3
   },
   "file_extension": ".py",
   "mimetype": "text/x-python",
   "name": "python",
   "nbconvert_exporter": "python",
   "pygments_lexer": "ipython3",
   "version": "3.7.11"
  },
  "orig_nbformat": 4
 },
 "nbformat": 4,
 "nbformat_minor": 2
}
